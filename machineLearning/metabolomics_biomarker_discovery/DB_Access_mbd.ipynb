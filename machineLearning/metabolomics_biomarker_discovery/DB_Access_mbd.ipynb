{
  "nbformat": 4,
  "nbformat_minor": 0,
  "metadata": {
    "colab": {
      "provenance": []
    },
    "kernelspec": {
      "name": "python3",
      "display_name": "Python 3"
    },
    "language_info": {
      "name": "python"
    }
  },
  "cells": [
    {
      "cell_type": "code",
      "execution_count": 14,
      "metadata": {
        "id": "vw4qmT91-Ols"
      },
      "outputs": [],
      "source": [
        "%%capture\n",
        "!pip install PyMySQL"
      ]
    },
    {
      "cell_type": "code",
      "source": [
        "import pymysql.cursors\n",
        "import warnings\n",
        "import pandas as pd\n",
        "warnings.filterwarnings('ignore')"
      ],
      "metadata": {
        "id": "-DHZSL3e-kYQ"
      },
      "execution_count": 15,
      "outputs": []
    },
    {
      "cell_type": "code",
      "source": [
        "def connect():\n",
        "    # database credentials\n",
        "    host = 'den1.mysql6.gear.host'\n",
        "    db = 'situation'\n",
        "    usr = 'situation'\n",
        "    pwd = input()\n",
        "\n",
        "    # connect to the database\n",
        "    try:\n",
        "        return pymysql.connect(host=host, user=usr, password=pwd, database=db,\n",
        "            cursorclass=pymysql.cursors.DictCursor)\n",
        "    except pymysql.Error as err:\n",
        "        print(\"error %d: %s\" %(err.args[0], err.args[1]))\n",
        "        return \"\""
      ],
      "metadata": {
        "id": "aiaWunTh_U4v"
      },
      "execution_count": 16,
      "outputs": []
    },
    {
      "cell_type": "code",
      "source": [
        "def query_table(table_name):\n",
        "    sql = f\"SELECT * FROM {table_name};\"\n",
        "\n",
        "    # connect to database\n",
        "    db_connection = connect()\n",
        "\n",
        "    # check connection\n",
        "    if not (type(db_connection) == str):\n",
        "        # execute query and fetch results\n",
        "        with db_connection.cursor() as cursor:\n",
        "            cursor.execute(sql)\n",
        "            result = cursor.fetchall()\n",
        "        return result\n",
        "    else:\n",
        "        return []\n",
        "\n",
        "# Call the function to query the table\n",
        "results = query_table('n14_metabolomics_data')\n",
        "\n",
        "# Print out the results\n",
        "for row in results:\n",
        "    print(row)\n"
      ],
      "metadata": {
        "colab": {
          "base_uri": "https://localhost:8080/"
        },
        "id": "5y6og9GIR4iu",
        "outputId": "e93338c4-9ff9-4a6d-d2e4-38a8a4d690e7"
      },
      "execution_count": 18,
      "outputs": [
        {
          "output_type": "stream",
          "name": "stdout",
          "text": [
            "cogni88.\n",
            "{'sample_id': 'sample_0', 'metabolite1': 0.676405, 'metabolite2': 0.653278, 'metabolite3': 0.506652, 'metabolite4': 0.648825, 'metabolite5': 0.413877, 'metabolite6': 0.350874, 'metabolite7': 0.618803, 'metabolite8': 0.577179, 'metabolite9': 0.34592, 'metabolite10': 0.514195, 'age': 43, 'gender': 'Female', 'disease_status': 'Healthy'}\n",
            "{'sample_id': 'sample_1', 'metabolite1': 0.540016, 'metabolite2': 0.646936, 'metabolite3': 0.530247, 'metabolite4': 0.689589, 'metabolite5': 0.691006, 'metabolite6': 0.543939, 'metabolite7': 0.531694, 'metabolite8': 0.58235, 'metabolite9': 0.506326, 'metabolite10': 0.468067, 'age': 54, 'gender': 'Female', 'disease_status': 'Diseased'}\n",
            "{'sample_id': 'sample_10', 'metabolite1': 0.514404, 'metabolite2': 0.461267, 'metabolite3': 0.33698, 'metabolite4': 0.535637, 'metabolite5': 0.529824, 'metabolite6': 0.493176, 'metabolite7': 0.454447, 'metabolite8': 0.497567, 'metabolite9': 0.384382, 'metabolite10': 0.440369, 'age': 46, 'gender': 'Male', 'disease_status': 'Healthy'}\n",
            "{'sample_id': 'sample_11', 'metabolite1': 0.645427, 'metabolite2': 0.46977, 'metabolite3': 0.546278, 'metabolite4': 0.570657, 'metabolite5': 0.632639, 'metabolite6': 0.671334, 'metabolite7': 0.501748, 'metabolite8': 0.426197, 'metabolite9': 0.57812, 'metabolite10': 0.494743, 'age': 58, 'gender': 'Female', 'disease_status': 'Diseased'}\n",
            "{'sample_id': 'sample_12', 'metabolite1': 0.576104, 'metabolite2': 0.395145, 'metabolite3': 0.40927, 'metabolite4': 0.50105, 'metabolite5': 0.430543, 'metabolite6': 0.425525, 'metabolite7': 0.464601, 'metabolite8': 0.527992, 'metabolite9': 0.649448, 'metabolite10': 0.306372, 'age': 66, 'gender': 'Female', 'disease_status': 'Healthy'}\n",
            "{'sample_id': 'sample_13', 'metabolite1': 0.512168, 'metabolite2': 0.357998, 'metabolite3': 0.505195, 'metabolite4': 0.678587, 'metabolite5': 0.485037, 'metabolite6': 0.417356, 'metabolite7': 0.362505, 'metabolite8': 0.490185, 'metabolite9': 0.293002, 'metabolite10': 0.518878, 'age': 36, 'gender': 'Male', 'disease_status': 'Healthy'}\n",
            "{'sample_id': 'sample_14', 'metabolite1': 0.544386, 'metabolite2': 0.329373, 'metabolite3': 0.572909, 'metabolite4': 0.512691, 'metabolite5': 0.456485, 'metabolite6': 0.490155, 'metabolite7': 0.435638, 'metabolite8': 0.591018, 'metabolite9': 0.542626, 'metabolite10': 0.552389, 'age': 67, 'gender': 'Male', 'disease_status': 'Diseased'}\n",
            "{'sample_id': 'sample_15', 'metabolite1': 0.533367, 'metabolite2': 0.695078, 'metabolite3': 0.512898, 'metabolite4': 0.540199, 'metabolite5': 0.684926, 'metabolite6': 0.433652, 'metabolite7': 0.27766, 'metabolite8': 0.531722, 'metabolite9': 0.567691, 'metabolite10': 0.508842, 'age': 60, 'gender': 'Female', 'disease_status': 'Diseased'}\n",
            "{'sample_id': 'sample_16', 'metabolite1': 0.649408, 'metabolite2': 0.449035, 'metabolite3': 0.61394, 'metabolite4': 0.688315, 'metabolite5': 0.567229, 'metabolite6': 0.612664, 'metabolite7': 0.562523, 'metabolite8': 0.578633, 'metabolite9': 0.436256, 'metabolite10': 0.468911, 'age': 20, 'gender': 'Female', 'disease_status': 'Healthy'}\n",
            "{'sample_id': 'sample_17', 'metabolite1': 0.479484, 'metabolite2': 0.456193, 'metabolite3': 0.376517, 'metabolite4': 0.365224, 'metabolite5': 0.540746, 'metabolite6': 0.392007, 'metabolite7': 0.339794, 'metabolite8': 0.453358, 'metabolite9': 0.460273, 'metabolite10': 0.50974, 'age': 30, 'gender': 'Male', 'disease_status': 'Healthy'}\n",
            "{'sample_id': 'sample_18', 'metabolite1': 0.531307, 'metabolite2': 0.37472, 'metabolite3': 0.540234, 'metabolite4': 0.372952, 'metabolite5': 0.423008, 'metabolite6': 0.385253, 'metabolite7': 0.389562, 'metabolite8': 0.405555, 'metabolite9': 0.486712, 'metabolite10': 0.539905, 'age': 31, 'gender': 'Male', 'disease_status': 'Diseased'}\n",
            "{'sample_id': 'sample_19', 'metabolite1': 0.41459, 'metabolite2': 0.577749, 'metabolite3': 0.431519, 'metabolite4': 0.59694, 'metabolite5': 0.553925, 'metabolite6': 0.456218, 'metabolite7': 0.505216, 'metabolite8': 0.458995, 'metabolite9': 0.470221, 'metabolite10': 0.222741, 'age': 33, 'gender': 'Male', 'disease_status': 'Diseased'}\n",
            "{'sample_id': 'sample_2', 'metabolite1': 0.597874, 'metabolite2': 0.515495, 'metabolite3': 0.436568, 'metabolite4': 0.617878, 'metabolite5': 0.4732, 'metabolite6': 0.516667, 'metabolite7': 0.592086, 'metabolite8': 0.716324, 'metabolite9': 0.515651, 'metabolite10': 0.569154, 'age': 55, 'gender': 'Male', 'disease_status': 'Diseased'}\n",
            "{'sample_id': 'sample_20', 'metabolite1': 0.244701, 'metabolite2': 0.33861, 'metabolite3': 0.41292, 'metabolite4': 0.382688, 'metabolite5': 0.432567, 'metabolite6': 0.450197, 'metabolite7': 0.426044, 'metabolite8': 0.498298, 'metabolite9': 0.469099, 'metabolite10': 0.695591, 'age': 27, 'gender': 'Female', 'disease_status': 'Diseased'}\n",
            "{'sample_id': 'sample_21', 'metabolite1': 0.565362, 'metabolite2': 0.478726, 'metabolite3': 0.442115, 'metabolite4': 0.694362, 'metabolite5': 0.503183, 'metabolite6': 0.692953, 'metabolite7': 0.654301, 'metabolite8': 0.537915, 'metabolite9': 0.3324, 'metabolite10': 0.539009, 'age': 50, 'gender': 'Male', 'disease_status': 'Healthy'}\n",
            "{'sample_id': 'sample_22', 'metabolite1': 0.586444, 'metabolite2': 0.410453, 'metabolite3': 0.468845, 'metabolite4': 0.458638, 'metabolite5': 0.436415, 'metabolite6': 0.594942, 'metabolite7': 0.370714, 'metabolite8': 0.725931, 'metabolite9': 0.615233, 'metabolite10': 0.434759, 'age': 26, 'gender': 'Female', 'disease_status': 'Healthy'}\n",
            "{'sample_id': 'sample_23', 'metabolite1': 0.425783, 'metabolite2': 0.53869, 'metabolite3': 0.505617, 'metabolite4': 0.425255, 'metabolite5': 0.567643, 'metabolite6': 0.508755, 'metabolite7': 0.526705, 'metabolite8': 0.495774, 'metabolite9': 0.607962, 'metabolite10': 0.460905, 'age': 65, 'gender': 'Male', 'disease_status': 'Healthy'}\n",
            "{'sample_id': 'sample_24', 'metabolite1': 0.726975, 'metabolite2': 0.448919, 'metabolite3': 0.383485, 'metabolite4': 0.692294, 'metabolite5': 0.557659, 'metabolite6': 0.377456, 'metabolite7': 0.496072, 'metabolite8': 0.404406, 'metabolite9': 0.418664, 'metabolite10': 0.549374, 'age': 50, 'gender': 'Male', 'disease_status': 'Healthy'}\n",
            "{'sample_id': 'sample_25', 'metabolite1': 0.354563, 'metabolite2': 0.381937, 'metabolite3': 0.590083, 'metabolite4': 0.648052, 'metabolite5': 0.47917, 'metabolite6': 0.584436, 'metabolite7': 0.383191, 'metabolite8': 0.465402, 'metabolite9': 0.353358, 'metabolite10': 0.48839, 'age': 35, 'gender': 'Female', 'disease_status': 'Healthy'}\n",
            "{'sample_id': 'sample_26', 'metabolite1': 0.504576, 'metabolite2': 0.497182, 'metabolite3': 0.546566, 'metabolite4': 0.686756, 'metabolite5': 0.539601, 'metabolite6': 0.399978, 'metabolite7': 0.552328, 'metabolite8': 0.45364, 'metabolite9': 0.552106, 'metabolite10': 0.296932, 'age': 61, 'gender': 'Male', 'disease_status': 'Diseased'}\n",
            "{'sample_id': 'sample_27', 'metabolite1': 0.481282, 'metabolite2': 0.542833, 'metabolite3': 0.346376, 'metabolite4': 0.590604, 'metabolite5': 0.390694, 'metabolite6': 0.345523, 'metabolite7': 0.482845, 'metabolite8': 0.548148, 'metabolite9': 0.442421, 'metabolite10': 0.706449, 'age': 58, 'gender': 'Male', 'disease_status': 'Healthy'}\n",
            "{'sample_id': 'sample_3', 'metabolite1': 0.724089, 'metabolite2': 0.537816, 'metabolite3': 0.463726, 'metabolite4': 0.482008, 'metabolite5': 0.580246, 'metabolite6': 0.563503, 'metabolite7': 0.531873, 'metabolite8': 0.633653, 'metabolite9': 0.523218, 'metabolite10': 0.569475, 'age': 29, 'gender': 'Female', 'disease_status': 'Healthy'}\n",
            "{'sample_id': 'sample_4', 'metabolite1': 0.686756, 'metabolite2': 0.411221, 'metabolite3': 0.432754, 'metabolite4': 0.392925, 'metabolite5': 0.594725, 'metabolite6': 0.738314, 'metabolite7': 0.585683, 'metabolite8': 0.463082, 'metabolite9': 0.440268, 'metabolite10': 0.42744, 'age': 46, 'gender': 'Male', 'disease_status': 'Healthy'}\n",
            "{'sample_id': 'sample_5', 'metabolite1': 0.402272, 'metabolite2': 0.30192, 'metabolite3': 0.464045, 'metabolite4': 0.605445, 'metabolite5': 0.484499, 'metabolite6': 0.594448, 'metabolite7': 0.434897, 'metabolite8': 0.476062, 'metabolite9': 0.476208, 'metabolite10': 0.361664, 'age': 46, 'gender': 'Female', 'disease_status': 'Healthy'}\n",
            "{'sample_id': 'sample_6', 'metabolite1': 0.595009, 'metabolite2': 0.465209, 'metabolite3': 0.418685, 'metabolite4': 0.459682, 'metabolite5': 0.561408, 'metabolite6': 0.408718, 'metabolite7': 0.396576, 'metabolite8': 0.609966, 'metabolite9': 0.357594, 'metabolite10': 0.341706, 'age': 42, 'gender': 'Female', 'disease_status': 'Diseased'}\n",
            "{'sample_id': 'sample_7', 'metabolite1': 0.484864, 'metabolite2': 0.515635, 'metabolite3': 0.327372, 'metabolite4': 0.622244, 'metabolite5': 0.592221, 'metabolite6': 0.611702, 'metabolite7': 0.568159, 'metabolite8': 0.565526, 'metabolite9': 0.450668, 'metabolite10': 0.561038, 'age': 32, 'gender': 'Male', 'disease_status': 'Healthy'}\n",
            "{'sample_id': 'sample_8', 'metabolite1': 0.489678, 'metabolite2': 0.623029, 'metabolite3': 0.517743, 'metabolite4': 0.520827, 'metabolite5': 0.537643, 'metabolite6': 0.368409, 'metabolite7': 0.419659, 'metabolite8': 0.564013, 'metabolite9': 0.445714, 'metabolite10': 0.381114, 'age': 35, 'gender': 'Male', 'disease_status': 'Healthy'}\n",
            "{'sample_id': 'sample_9', 'metabolite1': 0.54106, 'metabolite2': 0.620238, 'metabolite3': 0.459822, 'metabolite4': 0.597664, 'metabolite5': 0.39006, 'metabolite6': 0.453842, 'metabolite7': 0.431045, 'metabolite8': 0.338304, 'metabolite9': 0.541605, 'metabolite10': 0.449318, 'age': 54, 'gender': 'Male', 'disease_status': 'Diseased'}\n"
          ]
        }
      ]
    }
  ]
}